{
  "nbformat": 4,
  "nbformat_minor": 0,
  "metadata": {
    "colab": {
      "provenance": [],
      "authorship_tag": "ABX9TyO5UwKuqsXnC6yXqaFNj90H",
      "include_colab_link": true
    },
    "kernelspec": {
      "name": "python3",
      "display_name": "Python 3"
    },
    "language_info": {
      "name": "python"
    }
  },
  "cells": [
    {
      "cell_type": "markdown",
      "metadata": {
        "id": "view-in-github",
        "colab_type": "text"
      },
      "source": [
        "<a href=\"https://colab.research.google.com/github/FaiazS/Self-QnA-IQ-Tester/blob/main/Self_QnA_IQ_Tester.ipynb\" target=\"_parent\"><img src=\"https://colab.research.google.com/assets/colab-badge.svg\" alt=\"Open In Colab\"/></a>"
      ]
    },
    {
      "cell_type": "code",
      "execution_count": 1,
      "metadata": {
        "colab": {
          "base_uri": "https://localhost:8080/"
        },
        "id": "dQyfJHi6B9Zg",
        "outputId": "2e1e8ba5-d980-4435-ad68-3de26f919c04"
      },
      "outputs": [
        {
          "output_type": "stream",
          "name": "stdout",
          "text": [
            "Requirement already satisfied: groq in /usr/local/lib/python3.11/dist-packages (0.24.0)\n",
            "Requirement already satisfied: anyio<5,>=3.5.0 in /usr/local/lib/python3.11/dist-packages (from groq) (4.9.0)\n",
            "Requirement already satisfied: distro<2,>=1.7.0 in /usr/local/lib/python3.11/dist-packages (from groq) (1.9.0)\n",
            "Requirement already satisfied: httpx<1,>=0.23.0 in /usr/local/lib/python3.11/dist-packages (from groq) (0.28.1)\n",
            "Requirement already satisfied: pydantic<3,>=1.9.0 in /usr/local/lib/python3.11/dist-packages (from groq) (2.11.4)\n",
            "Requirement already satisfied: sniffio in /usr/local/lib/python3.11/dist-packages (from groq) (1.3.1)\n",
            "Requirement already satisfied: typing-extensions<5,>=4.10 in /usr/local/lib/python3.11/dist-packages (from groq) (4.13.2)\n",
            "Requirement already satisfied: idna>=2.8 in /usr/local/lib/python3.11/dist-packages (from anyio<5,>=3.5.0->groq) (3.10)\n",
            "Requirement already satisfied: certifi in /usr/local/lib/python3.11/dist-packages (from httpx<1,>=0.23.0->groq) (2025.4.26)\n",
            "Requirement already satisfied: httpcore==1.* in /usr/local/lib/python3.11/dist-packages (from httpx<1,>=0.23.0->groq) (1.0.9)\n",
            "Requirement already satisfied: h11>=0.16 in /usr/local/lib/python3.11/dist-packages (from httpcore==1.*->httpx<1,>=0.23.0->groq) (0.16.0)\n",
            "Requirement already satisfied: annotated-types>=0.6.0 in /usr/local/lib/python3.11/dist-packages (from pydantic<3,>=1.9.0->groq) (0.7.0)\n",
            "Requirement already satisfied: pydantic-core==2.33.2 in /usr/local/lib/python3.11/dist-packages (from pydantic<3,>=1.9.0->groq) (2.33.2)\n",
            "Requirement already satisfied: typing-inspection>=0.4.0 in /usr/local/lib/python3.11/dist-packages (from pydantic<3,>=1.9.0->groq) (0.4.0)\n"
          ]
        }
      ],
      "source": [
        "!pip install groq"
      ]
    },
    {
      "cell_type": "code",
      "source": [
        "import os\n",
        "\n",
        "from google.colab import userdata\n",
        "\n",
        "groq_api_key = os.environ['GROQ_API_KEY'] = userdata.get('LLMProjectKey1')"
      ],
      "metadata": {
        "id": "f90P-KTaCS8f"
      },
      "execution_count": 2,
      "outputs": []
    },
    {
      "cell_type": "code",
      "source": [
        "from groq import Groq\n",
        "\n",
        "groq_client = Groq()\n",
        "\n",
        "#Testing to check if the LLM is being invoked properly\n",
        "\n",
        "user_messages = [{\"role\" : \"user\" , \"content\" : \"Explain Calculus\"}]\n",
        "\n",
        "llm_response = groq_client.chat.completions.create(\n",
        "\n",
        "    model = \"llama-3.3-70b-versatile\",\n",
        "\n",
        "    messages = user_messages,\n",
        ")\n",
        "\n",
        "print(llm_response.choices[0].message.content)"
      ],
      "metadata": {
        "colab": {
          "base_uri": "https://localhost:8080/"
        },
        "id": "8ICuo-fTCoYo",
        "outputId": "22e63618-d35c-40bd-d7e8-bfedcbff5460"
      },
      "execution_count": 3,
      "outputs": [
        {
          "output_type": "stream",
          "name": "stdout",
          "text": [
            "Calculus is a branch of mathematics that deals with the study of continuous change, particularly in the context of functions and limits. It is a fundamental subject that has numerous applications in various fields, including physics, engineering, economics, and computer science.\n",
            "\n",
            "**Key Concepts:**\n",
            "\n",
            "1. **Limits:** The concept of a limit refers to the behavior of a function as the input (or independent variable) approaches a specific value. In other words, it is the value that a function approaches as the input gets arbitrarily close to a certain point.\n",
            "2. **Derivatives:** A derivative measures the rate of change of a function with respect to its input. It represents the instantaneous rate of change of the function at a given point.\n",
            "3. **Integrals:** An integral represents the accumulation of a function over a given interval. It can be thought of as the area under the curve of the function or the accumulation of the function's values over a specific range.\n",
            "4. **Functions:** A function is a relation between a set of inputs (called the domain) and a set of possible outputs (called the range). In calculus, functions are often represented as equations or graphs.\n",
            "\n",
            "**Branches of Calculus:**\n",
            "\n",
            "1. **Differential Calculus:** This branch of calculus focuses on the study of rates of change and slopes of curves. It involves the use of derivatives to analyze functions and model real-world phenomena.\n",
            "2. **Integral Calculus:** This branch of calculus deals with the study of accumulation and area under curves. It involves the use of integrals to solve problems in physics, engineering, and other fields.\n",
            "\n",
            "**Types of Calculus:**\n",
            "\n",
            "1. **Single-Variable Calculus:** This type of calculus involves the study of functions of one variable. It is used to model phenomena that depend on a single input or parameter.\n",
            "2. **Multi-Variable Calculus:** This type of calculus involves the study of functions of multiple variables. It is used to model phenomena that depend on multiple inputs or parameters.\n",
            "3. **Vector Calculus:** This type of calculus involves the study of functions of multiple variables, particularly in the context of vector fields and vector-valued functions.\n",
            "\n",
            "**Applications of Calculus:**\n",
            "\n",
            "1. **Physics and Engineering:** Calculus is used to model the behavior of physical systems, such as the motion of objects, the flow of fluids, and the transfer of heat.\n",
            "2. **Economics:** Calculus is used to model economic systems, including the behavior of markets, the growth of populations, and the optimization of resources.\n",
            "3. **Computer Science:** Calculus is used in computer science to model and analyze algorithms, particularly in the context of machine learning and data analysis.\n",
            "4. **Biology:** Calculus is used in biology to model the behavior of populations, the growth of organisms, and the spread of diseases.\n",
            "\n",
            "**Real-World Examples:**\n",
            "\n",
            "1. **Optimization:** Calculus is used to optimize functions, such as finding the maximum or minimum value of a function. This has applications in fields like economics, engineering, and computer science.\n",
            "2. **Motion:** Calculus is used to model the motion of objects, including the trajectory of projectiles, the motion of vehicles, and the movement of fluids.\n",
            "3. **Signal Processing:** Calculus is used in signal processing to analyze and filter signals, particularly in the context of audio and image processing.\n",
            "4. **Medical Imaging:** Calculus is used in medical imaging to reconstruct images of the body, particularly in the context of MRI and CT scans.\n",
            "\n",
            "**Conclusion:**\n",
            "\n",
            "Calculus is a powerful tool for modeling and analyzing complex phenomena in various fields. Its applications range from physics and engineering to economics and computer science. By understanding the fundamental concepts of calculus, including limits, derivatives, and integrals, individuals can develop a deeper appreciation for the natural world and the tools used to analyze it.\n"
          ]
        }
      ]
    },
    {
      "cell_type": "code",
      "source": [
        "Question = \"Please come up with a tough challenging question to test a person's IQ Level, Strictly just respond with the Question!\"\n",
        "\n",
        "user_messages = [{\"role\": \"user\" , \"content\" : Question}]\n",
        "\n",
        "llm_response = groq_client.chat.completions.create(\n",
        "\n",
        "    model = \"llama-3.3-70b-versatile\",\n",
        "\n",
        "    messages = user_messages\n",
        "\n",
        ")\n",
        "\n",
        "Question = llm_response.choices[0].message.content\n",
        "\n",
        "print(Question)"
      ],
      "metadata": {
        "colab": {
          "base_uri": "https://localhost:8080/"
        },
        "id": "156bgNqPC6sw",
        "outputId": "b86bc5b2-8cff-4175-880e-64c00f69f7bc"
      },
      "execution_count": 4,
      "outputs": [
        {
          "output_type": "stream",
          "name": "stdout",
          "text": [
            "A bat and a ball together cost $1.10. The bat costs $1.00 more than the ball. How much does the ball cost?\n"
          ]
        }
      ]
    },
    {
      "cell_type": "code",
      "source": [
        "user_messages = [{\"role\" : \"assistant\",  \"content\" : Question}]\n",
        "\n",
        "llm_response = groq_client.chat.completions.create(\n",
        "\n",
        "    model = \"llama-3.3-70b-versatile\",\n",
        "\n",
        "    messages = user_messages\n",
        ")\n",
        "Answer = llm_response.choices[0].message.content\n",
        "\n",
        "print(Answer)"
      ],
      "metadata": {
        "colab": {
          "base_uri": "https://localhost:8080/"
        },
        "collapsed": true,
        "id": "Jqp2Q0PJDQ2Y",
        "outputId": "0086b96d-d0c1-46f4-8213-2245dc0b5328"
      },
      "execution_count": 5,
      "outputs": [
        {
          "output_type": "stream",
          "name": "stdout",
          "text": [
            " \n",
            "\n",
            "This is a classic math problem. Let's break it down step by step.\n",
            "\n",
            "Let's say the cost of the ball is x.\n",
            "\n",
            "Since the bat costs $1.00 more than the ball, the cost of the bat is x + $1.00.\n",
            "\n",
            "We know that the total cost of the bat and the ball together is $1.10. So, we can set up the equation:\n",
            "\n",
            "x + (x + $1.00) = $1.10\n",
            "\n",
            "Combine like terms:\n",
            "\n",
            "2x + $1.00 = $1.10\n",
            "\n",
            "Subtract $1.00 from both sides:\n",
            "\n",
            "2x = $0.10\n",
            "\n",
            "Divide both sides by 2:\n",
            "\n",
            "x = $0.05\n",
            "\n",
            "So, the ball costs $0.05, or 5 cents.\n"
          ]
        }
      ]
    },
    {
      "cell_type": "code",
      "source": [
        "from IPython.display import Markdown, display\n",
        "\n",
        "display(Markdown(Answer))"
      ],
      "metadata": {
        "colab": {
          "base_uri": "https://localhost:8080/",
          "height": 313
        },
        "id": "lVj2jGC5DqEw",
        "outputId": "e807fd97-28ca-4fab-bb16-be817aae10fc"
      },
      "execution_count": 6,
      "outputs": [
        {
          "output_type": "display_data",
          "data": {
            "text/plain": [
              "<IPython.core.display.Markdown object>"
            ],
            "text/markdown": " \n\nThis is a classic math problem. Let's break it down step by step.\n\nLet's say the cost of the ball is x.\n\nSince the bat costs $1.00 more than the ball, the cost of the bat is x + $1.00.\n\nWe know that the total cost of the bat and the ball together is $1.10. So, we can set up the equation:\n\nx + (x + $1.00) = $1.10\n\nCombine like terms:\n\n2x + $1.00 = $1.10\n\nSubtract $1.00 from both sides:\n\n2x = $0.10\n\nDivide both sides by 2:\n\nx = $0.05\n\nSo, the ball costs $0.05, or 5 cents."
          },
          "metadata": {}
        }
      ]
    },
    {
      "cell_type": "code",
      "source": [],
      "metadata": {
        "id": "QsvtAFDEDzDQ"
      },
      "execution_count": null,
      "outputs": []
    }
  ]
}